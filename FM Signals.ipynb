{
 "cells": [
  {
   "cell_type": "markdown",
   "metadata": {},
   "source": [
    "# FM Signals\n",
    "\n",
    "We will examine the FM signal recorded using the SDR dongle.\n",
    "\n",
    "First we capture samples into a binary file and open it. \n",
    "\n",
    "Say\n",
    "\n",
    "`./rtl_sdr -f 88.6e6 -s 1200000 -n 12000000 -g 48 hot96.bin`"
   ]
  },
  {
   "cell_type": "code",
   "execution_count": null,
   "metadata": {},
   "outputs": [],
   "source": [
    "import numpy as np\n",
    "import matplotlib.pyplot as plt\n",
    "\n",
    "\n",
    "# You will replace hot96.bin with the file you generate\n",
    "\n",
    "with open(\"hot96.bin\", \"rb\") as binary_file:\n",
    "        data = binary_file.read()"
   ]
  },
  {
   "cell_type": "code",
   "execution_count": null,
   "metadata": {
    "scrolled": false
   },
   "outputs": [],
   "source": [
    "# The data consists of IQ samples which are complex\n",
    "\n",
    "real_data = data[::2]\n",
    "imag_data = data[1::2]\n",
    "\n",
    "# change to int\n",
    "real_data = np.frombuffer(real_data, dtype=np.uint8)\n",
    "imag_data = np.frombuffer(imag_data, dtype=np.uint8)\n",
    "complex_data = real_data + 1j * imag_data"
   ]
  },
  {
   "cell_type": "markdown",
   "metadata": {},
   "source": [
    "## Compute the spectrogram\n",
    "\n",
    "A spectrogram will allow us to visualize the FM signal"
   ]
  },
  {
   "cell_type": "code",
   "execution_count": null,
   "metadata": {},
   "outputs": [],
   "source": [
    "NFFT = 4096\n",
    "fs = 1200000\n",
    "\n",
    "%matplotlib inline\n",
    "plt.specgram(complex_data, NFFT=NFFT, Fs=fs);"
   ]
  },
  {
   "cell_type": "markdown",
   "metadata": {},
   "source": [
    "From the spectrogram above, you see that the variation in frequency looks very much like an audio signal. In addition the bandwidth of the FM signal is 200kHz.\n",
    "\n",
    "## Demodulation\n",
    "\n",
    "To demodulate, we will obtain the phase of the sampled signal and take the (approximate) first derivative of the signal."
   ]
  }
 ],
 "metadata": {
  "kernelspec": {
   "display_name": "Python 3",
   "language": "python",
   "name": "python3"
  },
  "language_info": {
   "codemirror_mode": {
    "name": "ipython",
    "version": 3
   },
   "file_extension": ".py",
   "mimetype": "text/x-python",
   "name": "python",
   "nbconvert_exporter": "python",
   "pygments_lexer": "ipython3",
   "version": "3.7.3"
  }
 },
 "nbformat": 4,
 "nbformat_minor": 2
}
